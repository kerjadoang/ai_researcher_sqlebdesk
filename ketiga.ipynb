{
 "cells": [
  {
   "cell_type": "code",
   "execution_count": 1,
   "metadata": {},
   "outputs": [
    {
     "name": "stdout",
     "output_type": "stream",
     "text": [
      "Collecting duckdb\n",
      "  Downloading duckdb-1.1.2-cp312-cp312-manylinux_2_17_x86_64.manylinux2014_x86_64.whl.metadata (762 bytes)\n",
      "Collecting sqlalchemy\n",
      "  Downloading SQLAlchemy-2.0.36-cp312-cp312-manylinux_2_17_x86_64.manylinux2014_x86_64.whl.metadata (9.7 kB)\n",
      "Requirement already satisfied: typing-extensions>=4.6.0 in /home/codespace/.local/lib/python3.12/site-packages (from sqlalchemy) (4.9.0)\n",
      "Collecting greenlet!=0.4.17 (from sqlalchemy)\n",
      "  Downloading greenlet-3.1.1-cp312-cp312-manylinux_2_24_x86_64.manylinux_2_28_x86_64.whl.metadata (3.8 kB)\n",
      "Downloading duckdb-1.1.2-cp312-cp312-manylinux_2_17_x86_64.manylinux2014_x86_64.whl (20.1 MB)\n",
      "\u001b[2K   \u001b[90m━━━━━━━━━━━━━━━━━━━━━━━━━━━━━━━━━━━━━━━━\u001b[0m \u001b[32m20.1/20.1 MB\u001b[0m \u001b[31m26.7 MB/s\u001b[0m eta \u001b[36m0:00:00\u001b[0m00:01\u001b[0m00:01\u001b[0m\n",
      "\u001b[?25hDownloading SQLAlchemy-2.0.36-cp312-cp312-manylinux_2_17_x86_64.manylinux2014_x86_64.whl (3.2 MB)\n",
      "\u001b[2K   \u001b[90m━━━━━━━━━━━━━━━━━━━━━━━━━━━━━━━━━━━━━━━━\u001b[0m \u001b[32m3.2/3.2 MB\u001b[0m \u001b[31m38.4 MB/s\u001b[0m eta \u001b[36m0:00:00\u001b[0m\n",
      "\u001b[?25hDownloading greenlet-3.1.1-cp312-cp312-manylinux_2_24_x86_64.manylinux_2_28_x86_64.whl (613 kB)\n",
      "\u001b[2K   \u001b[90m━━━━━━━━━━━━━━━━━━━━━━━━━━━━━━━━━━━━━━━━\u001b[0m \u001b[32m613.1/613.1 kB\u001b[0m \u001b[31m7.1 MB/s\u001b[0m eta \u001b[36m0:00:00\u001b[0m\n",
      "\u001b[?25hInstalling collected packages: greenlet, duckdb, sqlalchemy\n",
      "Successfully installed duckdb-1.1.2 greenlet-3.1.1 sqlalchemy-2.0.36\n",
      "Note: you may need to restart the kernel to use updated packages.\n"
     ]
    },
    {
     "ename": "ArgumentError",
     "evalue": "Could not parse SQLAlchemy URL from string '/workspaces/ai_researcher_sqlebdesk/._dataset_2.db'",
     "output_type": "error",
     "traceback": [
      "\u001b[0;31m---------------------------------------------------------------------------\u001b[0m",
      "\u001b[0;31mArgumentError\u001b[0m                             Traceback (most recent call last)",
      "Cell \u001b[0;32mIn[1], line 7\u001b[0m\n\u001b[1;32m      4\u001b[0m \u001b[38;5;28;01mfrom\u001b[39;00m \u001b[38;5;21;01msqlalchemy\u001b[39;00m\u001b[38;5;21;01m.\u001b[39;00m\u001b[38;5;21;01morm\u001b[39;00m \u001b[38;5;28;01mimport\u001b[39;00m sessionmaker\n\u001b[1;32m      6\u001b[0m \u001b[38;5;66;03m# Connect to the DuckDB file using SQLAlchemy and DuckDB's SQLAlchemy dialect\u001b[39;00m\n\u001b[0;32m----> 7\u001b[0m engine \u001b[38;5;241m=\u001b[39m \u001b[43mcreate_engine\u001b[49m\u001b[43m(\u001b[49m\u001b[38;5;124;43m'\u001b[39;49m\u001b[38;5;124;43m/workspaces/ai_researcher_sqlebdesk/._dataset_2.db\u001b[39;49m\u001b[38;5;124;43m'\u001b[39;49m\u001b[43m)\u001b[49m\n\u001b[1;32m      9\u001b[0m \u001b[38;5;66;03m# Create a session\u001b[39;00m\n\u001b[1;32m     10\u001b[0m Session \u001b[38;5;241m=\u001b[39m sessionmaker(bind\u001b[38;5;241m=\u001b[39mengine)\n",
      "File \u001b[0;32m<string>:2\u001b[0m, in \u001b[0;36mcreate_engine\u001b[0;34m(url, **kwargs)\u001b[0m\n",
      "File \u001b[0;32m/usr/local/python/3.12.1/lib/python3.12/site-packages/sqlalchemy/util/deprecations.py:281\u001b[0m, in \u001b[0;36mdeprecated_params.<locals>.decorate.<locals>.warned\u001b[0;34m(fn, *args, **kwargs)\u001b[0m\n\u001b[1;32m    274\u001b[0m     \u001b[38;5;28;01mif\u001b[39;00m m \u001b[38;5;129;01min\u001b[39;00m kwargs:\n\u001b[1;32m    275\u001b[0m         _warn_with_version(\n\u001b[1;32m    276\u001b[0m             messages[m],\n\u001b[1;32m    277\u001b[0m             versions[m],\n\u001b[1;32m    278\u001b[0m             version_warnings[m],\n\u001b[1;32m    279\u001b[0m             stacklevel\u001b[38;5;241m=\u001b[39m\u001b[38;5;241m3\u001b[39m,\n\u001b[1;32m    280\u001b[0m         )\n\u001b[0;32m--> 281\u001b[0m \u001b[38;5;28;01mreturn\u001b[39;00m \u001b[43mfn\u001b[49m\u001b[43m(\u001b[49m\u001b[38;5;241;43m*\u001b[39;49m\u001b[43margs\u001b[49m\u001b[43m,\u001b[49m\u001b[43m \u001b[49m\u001b[38;5;241;43m*\u001b[39;49m\u001b[38;5;241;43m*\u001b[39;49m\u001b[43mkwargs\u001b[49m\u001b[43m)\u001b[49m\n",
      "File \u001b[0;32m/usr/local/python/3.12.1/lib/python3.12/site-packages/sqlalchemy/engine/create.py:546\u001b[0m, in \u001b[0;36mcreate_engine\u001b[0;34m(url, **kwargs)\u001b[0m\n\u001b[1;32m    543\u001b[0m kwargs\u001b[38;5;241m.\u001b[39mpop(\u001b[38;5;124m\"\u001b[39m\u001b[38;5;124mempty_in_strategy\u001b[39m\u001b[38;5;124m\"\u001b[39m, \u001b[38;5;28;01mNone\u001b[39;00m)\n\u001b[1;32m    545\u001b[0m \u001b[38;5;66;03m# create url.URL object\u001b[39;00m\n\u001b[0;32m--> 546\u001b[0m u \u001b[38;5;241m=\u001b[39m \u001b[43m_url\u001b[49m\u001b[38;5;241;43m.\u001b[39;49m\u001b[43mmake_url\u001b[49m\u001b[43m(\u001b[49m\u001b[43murl\u001b[49m\u001b[43m)\u001b[49m\n\u001b[1;32m    548\u001b[0m u, plugins, kwargs \u001b[38;5;241m=\u001b[39m u\u001b[38;5;241m.\u001b[39m_instantiate_plugins(kwargs)\n\u001b[1;32m    550\u001b[0m entrypoint \u001b[38;5;241m=\u001b[39m u\u001b[38;5;241m.\u001b[39m_get_entrypoint()\n",
      "File \u001b[0;32m/usr/local/python/3.12.1/lib/python3.12/site-packages/sqlalchemy/engine/url.py:842\u001b[0m, in \u001b[0;36mmake_url\u001b[0;34m(name_or_url)\u001b[0m\n\u001b[1;32m    826\u001b[0m \u001b[38;5;250m\u001b[39m\u001b[38;5;124;03m\"\"\"Given a string, produce a new URL instance.\u001b[39;00m\n\u001b[1;32m    827\u001b[0m \n\u001b[1;32m    828\u001b[0m \u001b[38;5;124;03mThe format of the URL generally follows `RFC-1738\u001b[39;00m\n\u001b[0;32m   (...)\u001b[0m\n\u001b[1;32m    838\u001b[0m \n\u001b[1;32m    839\u001b[0m \u001b[38;5;124;03m\"\"\"\u001b[39;00m\n\u001b[1;32m    841\u001b[0m \u001b[38;5;28;01mif\u001b[39;00m \u001b[38;5;28misinstance\u001b[39m(name_or_url, \u001b[38;5;28mstr\u001b[39m):\n\u001b[0;32m--> 842\u001b[0m     \u001b[38;5;28;01mreturn\u001b[39;00m \u001b[43m_parse_url\u001b[49m\u001b[43m(\u001b[49m\u001b[43mname_or_url\u001b[49m\u001b[43m)\u001b[49m\n\u001b[1;32m    843\u001b[0m \u001b[38;5;28;01melif\u001b[39;00m \u001b[38;5;129;01mnot\u001b[39;00m \u001b[38;5;28misinstance\u001b[39m(name_or_url, URL) \u001b[38;5;129;01mand\u001b[39;00m \u001b[38;5;129;01mnot\u001b[39;00m \u001b[38;5;28mhasattr\u001b[39m(\n\u001b[1;32m    844\u001b[0m     name_or_url, \u001b[38;5;124m\"\u001b[39m\u001b[38;5;124m_sqla_is_testing_if_this_is_a_mock_object\u001b[39m\u001b[38;5;124m\"\u001b[39m\n\u001b[1;32m    845\u001b[0m ):\n\u001b[1;32m    846\u001b[0m     \u001b[38;5;28;01mraise\u001b[39;00m exc\u001b[38;5;241m.\u001b[39mArgumentError(\n\u001b[1;32m    847\u001b[0m         \u001b[38;5;124mf\u001b[39m\u001b[38;5;124m\"\u001b[39m\u001b[38;5;124mExpected string or URL object, got \u001b[39m\u001b[38;5;132;01m{\u001b[39;00mname_or_url\u001b[38;5;132;01m!r}\u001b[39;00m\u001b[38;5;124m\"\u001b[39m\n\u001b[1;32m    848\u001b[0m     )\n",
      "File \u001b[0;32m/usr/local/python/3.12.1/lib/python3.12/site-packages/sqlalchemy/engine/url.py:908\u001b[0m, in \u001b[0;36m_parse_url\u001b[0;34m(name)\u001b[0m\n\u001b[1;32m    905\u001b[0m     \u001b[38;5;28;01mreturn\u001b[39;00m URL\u001b[38;5;241m.\u001b[39mcreate(name, \u001b[38;5;241m*\u001b[39m\u001b[38;5;241m*\u001b[39mcomponents)  \u001b[38;5;66;03m# type: ignore\u001b[39;00m\n\u001b[1;32m    907\u001b[0m \u001b[38;5;28;01melse\u001b[39;00m:\n\u001b[0;32m--> 908\u001b[0m     \u001b[38;5;28;01mraise\u001b[39;00m exc\u001b[38;5;241m.\u001b[39mArgumentError(\n\u001b[1;32m    909\u001b[0m         \u001b[38;5;124m\"\u001b[39m\u001b[38;5;124mCould not parse SQLAlchemy URL from string \u001b[39m\u001b[38;5;124m'\u001b[39m\u001b[38;5;132;01m%s\u001b[39;00m\u001b[38;5;124m'\u001b[39m\u001b[38;5;124m\"\u001b[39m \u001b[38;5;241m%\u001b[39m name\n\u001b[1;32m    910\u001b[0m     )\n",
      "\u001b[0;31mArgumentError\u001b[0m: Could not parse SQLAlchemy URL from string '/workspaces/ai_researcher_sqlebdesk/._dataset_2.db'"
     ]
    }
   ],
   "source": [
    "%pip install duckdb sqlalchemy\n",
    "\n",
    "\n"
   ]
  },
  {
   "cell_type": "code",
   "execution_count": 2,
   "metadata": {},
   "outputs": [],
   "source": [
    "import duckdb\n",
    "from sqlalchemy import create_engine\n",
    "from sqlalchemy.orm import sessionmaker\n"
   ]
  },
  {
   "cell_type": "code",
   "execution_count": 7,
   "metadata": {},
   "outputs": [],
   "source": [
    "from sqlalchemy import create_engine\n",
    "from sqlalchemy.orm import sessionmaker\n",
    "import duckdb\n",
    "import sqlite3"
   ]
  },
  {
   "cell_type": "code",
   "execution_count": 8,
   "metadata": {},
   "outputs": [
    {
     "name": "stdout",
     "output_type": "stream",
     "text": [
      "Tables in DuckDB: []\n",
      "Data successfully migrated from DuckDB to SQLite!\n"
     ]
    }
   ],
   "source": [
    "\n",
    "\n",
    "# Step 1: Connect to DuckDB and read data\n",
    "duckdb_connection = duckdb.connect('_dataset_2.db')  # Connect to DuckDB\n",
    "\n",
    "# Get the list of tables in the DuckDB database\n",
    "tables_result = duckdb_connection.execute(\"SHOW TABLES\").fetchall()\n",
    "tables = [table[0] for table in tables_result]\n",
    "print(\"Tables in DuckDB:\", tables)\n",
    "\n",
    "# Step 2: Connect to SQLite and create a new database\n",
    "sqlite_connection = sqlite3.connect('sqlite_migrated.db')  # This will create a new SQLite DB\n",
    "sqlite_cursor = sqlite_connection.cursor()\n",
    "\n",
    "# Step 3: Transfer each table from DuckDB to SQLite\n",
    "for table in tables:\n",
    "    # Fetch the table schema from DuckDB\n",
    "    table_schema = duckdb_connection.execute(f\"PRAGMA table_info({table})\").fetchall()\n",
    "    \n",
    "    # Create the same table in SQLite\n",
    "    columns = \", \".join([f\"{col[1]} {col[2]}\" for col in table_schema])\n",
    "    create_table_sql = f\"CREATE TABLE IF NOT EXISTS {table} ({columns})\"\n",
    "    sqlite_cursor.execute(create_table_sql)\n",
    "\n",
    "    # Fetch all data from the DuckDB table\n",
    "    data = duckdb_connection.execute(f\"SELECT * FROM {table}\").fetchall()\n",
    "\n",
    "    # Insert the data into the corresponding SQLite table\n",
    "    placeholders = \", \".join([\"?\" for _ in range(len(table_schema))])\n",
    "    insert_sql = f\"INSERT INTO {table} VALUES ({placeholders})\"\n",
    "    \n",
    "    sqlite_cursor.executemany(insert_sql, data)\n",
    "\n",
    "# Step 4: Commit and close the connections\n",
    "sqlite_connection.commit()\n",
    "sqlite_connection.close()\n",
    "duckdb_connection.close()\n",
    "\n",
    "print(\"Data successfully migrated from DuckDB to SQLite!\")\n"
   ]
  },
  {
   "cell_type": "code",
   "execution_count": null,
   "metadata": {},
   "outputs": [
    {
     "name": "stdout",
     "output_type": "stream",
     "text": [
      "Tables in DuckDB:\n"
     ]
    }
   ],
   "source": [
    "import duckdb\n",
    "\n",
    "# Step 1: Connect to DuckDB and read data\n",
    "duckdb_connection = duckdb.connect('_dataset_2.db')  # Connect to DuckDB\n",
    "\n",
    "# Get the list of tables in the DuckDB database\n",
    "tables_result = duckdb_connection.execute(\"SHOW TABLES\").fetchall()\n",
    "tables = [table[0] for table in tables_result]\n",
    "\n",
    "# Show all available tables\n",
    "print(\"Tables in DuckDB:\")\n",
    "for idx, table_name in enumerate(tables, 1):\n",
    "    print(f\"{idx}. {table_name}\")\n",
    "\n",
    "# Step 2: Ask the user to select a table by its index\n",
    "table_index = int(input(\"\\nEnter the number of the table you want to view: \")) - 1\n",
    "\n",
    "if 0 <= table_index < len(tables):\n",
    "    selected_table = tables[table_index]\n",
    "    print(f\"\\nYou selected table: {selected_table}\")\n",
    "    \n",
    "    # Fetch column information for the selected table\n",
    "    columns_info = duckdb_connection.execute(f\"PRAGMA table_info({selected_table})\").fetchall()\n",
    "    columns = [col[1] for col in columns_info]\n",
    "    \n",
    "    # Show available columns\n",
    "    print(f\"\\nColumns in {selected_table}:\")\n",
    "    for idx, col_name in enumerate(columns, 1):\n",
    "        print(f\"{idx}. {col_name}\")\n",
    "\n",
    "    # Step 3: Ask the user to select a column for aggregation\n",
    "    column_index = int(input(\"\\nEnter the number of the column you want to aggregate: \")) - 1\n",
    "    \n",
    "    if 0 <= column_index < len(columns):\n",
    "        selected_column = columns[column_index]\n",
    "        print(f\"\\nYou selected column: {selected_column}\")\n",
    "        \n",
    "        # Step 4: Ask the user to select the type of aggregation\n",
    "        print(\"\\nAvailable aggregation functions:\")\n",
    "        print(\"1. SUM\")\n",
    "        print(\"2. COUNT\")\n",
    "        print(\"3. AVG\")\n",
    "        print(\"4. MIN\")\n",
    "        print(\"5. MAX\")\n",
    "        \n",
    "        agg_choice = int(input(\"\\nEnter the number of the aggregation function you want to perform: \"))\n",
    "        \n",
    "        # Map the user's choice to the correct SQL function\n",
    "        agg_functions = {1: \"SUM\", 2: \"COUNT\", 3: \"AVG\", 4: \"MIN\", 5: \"MAX\"}\n",
    "        if agg_choice in agg_functions:\n",
    "            agg_function = agg_functions[agg_choice]\n",
    "            \n",
    "            # Step 5: Perform the aggregation query\n",
    "            query = f\"SELECT {agg_function}({selected_column}) FROM {selected_table}\"\n",
    "            result = duckdb_connection.execute(query).fetchone()\n",
    "            \n",
    "            print(f\"\\nResult of {agg_function}({selected_column}) on table {selected_table}: {result[0]}\")\n",
    "        else:\n",
    "            print(\"Invalid aggregation choice.\")\n",
    "    \n",
    "    else:\n",
    "        print(\"Invalid column selection!\")\n",
    "    \n",
    "else:\n",
    "    print(\"Invalid table selection!\")\n",
    "\n",
    "# Close DuckDB connection\n",
    "duckdb_connection.close()\n"
   ]
  }
 ],
 "metadata": {
  "kernelspec": {
   "display_name": "Python 3 (ipykernel)",
   "language": "python",
   "name": "python3"
  },
  "language_info": {
   "codemirror_mode": {
    "name": "ipython",
    "version": 3
   },
   "file_extension": ".py",
   "mimetype": "text/x-python",
   "name": "python",
   "nbconvert_exporter": "python",
   "pygments_lexer": "ipython3",
   "version": "3.12.1"
  }
 },
 "nbformat": 4,
 "nbformat_minor": 2
}
